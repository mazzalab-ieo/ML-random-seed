{
 "cells": [
  {
   "cell_type": "code",
   "execution_count": 6,
   "metadata": {},
   "outputs": [],
   "source": [
    "import numpy as np\n",
    "import random"
   ]
  },
  {
   "cell_type": "code",
   "execution_count": 7,
   "metadata": {},
   "outputs": [
    {
     "data": {
      "text/plain": [
       "array([0.35595636, 0.60776408, 0.30769176, 0.10158235, 0.59846288,\n",
       "       0.64434042, 0.23059354, 0.10332584, 0.71769212, 0.12740095,\n",
       "       0.68051811, 0.05931205, 0.64648776, 0.05513816, 0.24571201,\n",
       "       0.34287354, 0.41872153, 0.45057173, 0.4611201 , 0.97209914,\n",
       "       0.71844995, 0.22641957, 0.81997748, 0.39075268, 0.25253534,\n",
       "       0.66653646, 0.08149581, 0.41057771, 0.19312587, 0.65825594])"
      ]
     },
     "execution_count": 7,
     "metadata": {},
     "output_type": "execute_result"
    }
   ],
   "source": [
    "random.seed(1)\n",
    "s = np.random.uniform(0,1,30)\n",
    "s"
   ]
  },
  {
   "cell_type": "code",
   "execution_count": null,
   "metadata": {},
   "outputs": [],
   "source": []
  }
 ],
 "metadata": {
  "kernelspec": {
   "display_name": "Python 3",
   "language": "python",
   "name": "python3"
  },
  "language_info": {
   "codemirror_mode": {
    "name": "ipython",
    "version": 3
   },
   "file_extension": ".py",
   "mimetype": "text/x-python",
   "name": "python",
   "nbconvert_exporter": "python",
   "pygments_lexer": "ipython3",
   "version": "3.7.4"
  }
 },
 "nbformat": 4,
 "nbformat_minor": 2
}
